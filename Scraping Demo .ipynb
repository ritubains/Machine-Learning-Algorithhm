{
 "cells": [
  {
   "cell_type": "code",
   "execution_count": 1,
   "metadata": {},
   "outputs": [],
   "source": [
    "import requests"
   ]
  },
  {
   "cell_type": "code",
   "execution_count": 2,
   "metadata": {},
   "outputs": [
    {
     "name": "stdout",
     "output_type": "stream",
     "text": [
      "Requirement already satisfied: bs4 in ./my_project_env/lib/python3.6/site-packages (0.0.1)\n",
      "Requirement already satisfied: beautifulsoup4 in ./my_project_env/lib/python3.6/site-packages (from bs4) (4.8.2)\n",
      "Requirement already satisfied: soupsieve>=1.2 in ./my_project_env/lib/python3.6/site-packages (from beautifulsoup4->bs4) (1.9.5)\n",
      "\u001b[33mWARNING: You are using pip version 19.3.1; however, version 20.0.1 is available.\n",
      "You should consider upgrading via the 'pip install --upgrade pip' command.\u001b[0m\n"
     ]
    }
   ],
   "source": [
    "!pip install bs4"
   ]
  },
  {
   "cell_type": "code",
   "execution_count": 3,
   "metadata": {},
   "outputs": [],
   "source": [
    "from bs4 import BeautifulSoup"
   ]
  },
  {
   "cell_type": "code",
   "execution_count": 4,
   "metadata": {},
   "outputs": [],
   "source": [
    "response = requests.get('https://xkcd.com/')"
   ]
  },
  {
   "cell_type": "code",
   "execution_count": 5,
   "metadata": {},
   "outputs": [
    {
     "data": {
      "text/plain": [
       "200"
      ]
     },
     "execution_count": 5,
     "metadata": {},
     "output_type": "execute_result"
    }
   ],
   "source": [
    "response.status_code"
   ]
  },
  {
   "cell_type": "code",
   "execution_count": 31,
   "metadata": {},
   "outputs": [
    {
     "data": {
      "text/plain": [
       "b'<!DOCTYPE html>\\n<html>\\n<head>\\n<link rel=\"stylesheet\" type=\"text/css\" href=\"/s/b0dcca.css\" title=\"Default\"/>\\n<title>xkcd: Solar System Changes</title>\\n<meta http-equiv=\"X-UA-Compatible\" content=\"IE=edge\"/>\\n<link rel=\"shortcut icon\" href=\"/s/919f27.ico\" type=\"image/x-icon\"/>\\n<link rel=\"icon\" href=\"/s/919f27.ico\" type=\"image/x-icon\"/>\\n<link rel=\"alternate\" type=\"application/atom+xml\" title=\"Atom 1.0\" href=\"/atom.xml\"/>\\n<link rel=\"alternate\" type=\"application/rss+xml\" title=\"RSS 2.0\" href=\"/rss.xml\"/>\\n<script type=\"text/javascript\" src=\"/s/b66ed7.js\" async></script>\\n<script type=\"text/javascript\" src=\"/s/1b9456.js\" async></script>\\n\\n<meta property=\"og:site_name\" content=\"xkcd\">\\n\\n<meta property=\"og:title\" content=\"Solar System Changes\">\\n<meta property=\"og:url\" content=\"https://xkcd.com/2258/\">\\n<meta property=\"og:image\" content=\"https://imgs.xkcd.com/comics/solar_system_changes_2x.png\">\\n<meta name=\"twitter:card\" content=\"summary_large_image\">\\n\\n</head>\\n<body>\\n<div id=\"topContainer\">\\n<div id=\"topLeft\">\\n<ul>\\n<li><a href=\"/archive\">Archive</a></li>\\n<li><a href=\"http://what-if.xkcd.com\">What If?</a></li>\\n<li><a href=\"http://blag.xkcd.com\">Blag</a></li>\\n<li><a href=\"/how-to/\">How To</a></li>\\n<li><a href=\"http://store.xkcd.com/\">Store</a></li>\\n<li><a rel=\"author\" href=\"/about\">About</a></li>\\n<li><a href=\"/atom.xml\">Feed</a> &bull; <a href=\"/newsletter/\">Email</a></li>\\n</ul>\\n</div>\\n<div id=\"topRight\">\\n<div id=\"masthead\">\\n<span><a href=\"/\"><img src=\"/s/0b7742.png\" alt=\"xkcd.com logo\" height=\"83\" width=\"185\"/></a></span>\\n<span id=\"slogan\">A webcomic of romance,<br/> sarcasm, math, and language.</span>\\n</div>\\n<div id=\"news\">\\n<div id=\"htNews\">\\n<a href=\"https://xkcd.com/how-to/\"><img border=0 src=\"//imgs.xkcd.com/static/howto_release_49b1.png\"></a><br />\\nYou can get it here:<br />\\n<a href=\"https://www.amazon.com/How-Absurd-Scientific-Real-World-Problems/dp/0525537090/\">Amazon</a>,\\n    <a href=\"http://links.penguinrandomhouse.com/type/affiliate/isbn/9780525537090/siteID/8001/retailerid/2/trackingcode/PRH5522E62429\">B&N</a>,\\n    <a href=\"http://links.penguinrandomhouse.com/type/affiliate/isbn/9780525537090/siteID/8001/retailerid/6/trackingcode/penguinrandom\">IndieBound</a>,\\n    <a href=\"https://itunes.apple.com/us/book/how-to/id1451461524?mt=11\">Apple</a>,\\n    <a href=\"https://www.audible.com/search?advsearchKeywords=How+To+Randall+Munroe&source_code=COMA0213WS031709&SID=PRHA9A5E24CFB--9780525635680\">Audible</a>,\\n    <a href=\"http://links.penguinrandomhouse.com/type/affiliate/isbn/9780525537090/siteID/8001/retailerid/23/trackingcode/PRH3D17167A3B\">Target</a>\\n</div>\\n<script>\\nvar client = new XMLHttpRequest();\\nclient.open(\"GET\", \"//c.xkcd.com/how-to/news\", true);\\nclient.send();\\nclient.onreadystatechange = function() {\\n  if(client.readyState == 4 && client.status == 200) {\\n    document.getElementById(\"htNews\").innerHTML = client.responseText;\\n  }\\n}\\n</script>\\n\\n</div>\\n</div>\\n<div id=\"bgLeft\" class=\"bg box\"></div>\\n<div id=\"bgRight\" class=\"bg box\"></div>\\n</div>\\n<div id=\"middleContainer\" class=\"box\">\\n\\n<div id=\"ctitle\">Solar System Changes</div>\\n<ul class=\"comicNav\">\\n<li><a href=\"/1/\">|&lt;</a></li>\\n<li><a rel=\"prev\" href=\"/2257/\" accesskey=\"p\">&lt; Prev</a></li>\\n<li><a href=\"//c.xkcd.com/random/comic/\">Random</a></li>\\n<li><a rel=\"next\" href=\"#\" accesskey=\"n\">Next &gt;</a></li>\\n<li><a href=\"/\">&gt;|</a></li>\\n</ul>\\n<div id=\"comic\">\\n<img src=\"//imgs.xkcd.com/comics/solar_system_changes.png\" title=\"&quot;Actually, Jupiter already has a very impressive ring system!&quot; --someone who knows Jupiter is within earshot\" alt=\"Solar System Changes\" srcset=\"//imgs.xkcd.com/comics/solar_system_changes_2x.png 2x\"/>\\n</div>\\n<ul class=\"comicNav\">\\n<li><a href=\"/1/\">|&lt;</a></li>\\n<li><a rel=\"prev\" href=\"/2257/\" accesskey=\"p\">&lt; Prev</a></li>\\n<li><a href=\"//c.xkcd.com/random/comic/\">Random</a></li>\\n<li><a rel=\"next\" href=\"#\" accesskey=\"n\">Next &gt;</a></li>\\n<li><a href=\"/\">&gt;|</a></li>\\n</ul>\\n<br />\\nPermanent link to this comic: https://xkcd.com/2258/<br />\\nImage URL (for hotlinking/embedding): https://imgs.xkcd.com/comics/solar_system_changes.png\\n<div id=\"transcript\" style=\"display: none\"></div>\\n</div>\\n<div id=\"bottom\" class=\"box\">\\n<img src=\"//imgs.xkcd.com/s/a899e84.jpg\" width=\"520\" height=\"100\" alt=\"Selected Comics\" usemap=\"#comicmap\"/>\\n<map id=\"comicmap\" name=\"comicmap\">\\n<area shape=\"rect\" coords=\"0,0,100,100\" href=\"/150/\" alt=\"Grownups\"/>\\n<area shape=\"rect\" coords=\"104,0,204,100\" href=\"/730/\" alt=\"Circuit Diagram\"/>\\n<area shape=\"rect\" coords=\"208,0,308,100\" href=\"/162/\" alt=\"Angular Momentum\"/>\\n<area shape=\"rect\" coords=\"312,0,412,100\" href=\"/688/\" alt=\"Self-Description\"/>\\n<area shape=\"rect\" coords=\"416,0,520,100\" href=\"/556/\" alt=\"Alternative Energy Revolution\"/>\\n</map>\\n<br />\\n<a href=\"//xkcd.com/1732/\"><img border=0 src=\"//imgs.xkcd.com/s/temperature.png\" width=\"520\" height=\"100\" alt=\"Earth temperature timeline\"></a>\\n<br />\\n<div>\\n<!--\\nSearch comic titles and transcripts:\\n<script type=\"text/javascript\" src=\"//www.google.com/jsapi\"></script>\\n<script type=\"text/javascript\">google.load(\\'search\\', \\'1\\');google.setOnLoadCallback(function() {google.search.CustomSearchControl.attachAutoCompletion(\\'012652707207066138651:zudjtuwe28q\\',document.getElementById(\\'q\\'),\\'cse-search-box\\');});</script>\\n<form action=\"//www.google.com/cse\" id=\"cse-search-box\">\\n<div>\\n<input type=\"hidden\" name=\"cx\" value=\"012652707207066138651:zudjtuwe28q\"/>\\n<input type=\"hidden\" name=\"ie\" value=\"UTF-8\"/>\\n<input type=\"text\" name=\"q\" id=\"q\" size=\"31\"/>\\n<input type=\"submit\" name=\"sa\" value=\"Search\"/>\\n</div>\\n</form>\\n<script type=\"text/javascript\" src=\"//www.google.com/cse/brand?form=cse-search-box&amp;lang=en\"></script>\\n-->\\n<a href=\"/rss.xml\">RSS Feed</a> - <a href=\"/atom.xml\">Atom Feed</a> - <a href=\"/newsletter/\">Email</a>\\n</div>\\n<br />\\n<div id=\"comicLinks\">\\nComics I enjoy:<br/>\\n        <a href=\"http://threewordphrase.com/\">Three Word Phrase</a>,\\n        <a href=\"http://www.smbc-comics.com/\">SMBC</a>,\\n        <a href=\"http://www.qwantz.com\">Dinosaur Comics</a>,\\n        <a href=\"http://oglaf.com/\">Oglaf</a> (nsfw),\\n        <a href=\"http://www.asofterworld.com\">A Softer World</a>,\\n        <a href=\"http://buttersafe.com/\">Buttersafe</a>,\\n        <a href=\"http://pbfcomics.com/\">Perry Bible Fellowship</a>,\\n        <a href=\"http://questionablecontent.net/\">Questionable Content</a>,\\n        <a href=\"http://www.buttercupfestival.com/\">Buttercup Festival</a>,\\n        <a href=\"http://www.mspaintadventures.com/?s=6&p=001901\">Homestuck</a>,\\n\\t<a href=\"http://www.jspowerhour.com/\">Junior Scientist Power Hour</a>\\n</div>\\n<br />\\n<div id=\"comicLinks\">\\nOther things:<br/>\\n        <a href=\"https://medium.com/civic-tech-thoughts-from-joshdata/so-you-want-to-reform-democracy-7f3b1ef10597\">Tips on technology and government</a>,<br /> \\n        <a href=\"https://www.nytimes.com/interactive/2017/climate/what-is-climate-change.html\">Climate FAQ</a>,\\n\\t<a href=\"https://twitter.com/KHayhoe\">Katharine Hayhoe</a>\\n</div>\\n<br />\\n<center>\\n<div id=\"footnote\" style=\"width:70%\">xkcd.com is best viewed with Netscape Navigator 4.0 or below on a Pentium 3&plusmn;1 emulated in Javascript on an Apple IIGS<br />at a screen resolution of 1024x1. Please enable your ad blockers, disable high-heat drying, and remove your device<br />from Airplane Mode and set it to Boat Mode. For security reasons, please leave caps lock on while browsing.</div>\\n</center>\\n<div id=\"licenseText\">\\n<p>\\nThis work is licensed under a\\n<a href=\"http://creativecommons.org/licenses/by-nc/2.5/\">Creative Commons Attribution-NonCommercial 2.5 License</a>.\\n</p><p>\\nThis means you\\'re free to copy and share these comics (but not to sell them). <a rel=\"license\" href=\"/license.html\">More details</a>.</p>\\n</div>\\n</div>\\n</body>\\n<!-- Layout by Ian Clasbey, davean, and chromakode -->\\n</html>\\n\\n'"
      ]
     },
     "execution_count": 31,
     "metadata": {},
     "output_type": "execute_result"
    }
   ],
   "source": [
    "html_data = response.content\n",
    "html_data"
   ]
  },
  {
   "cell_type": "code",
   "execution_count": 32,
   "metadata": {},
   "outputs": [],
   "source": [
    "soup = BeautifulSoup(html_data, 'html.parser')"
   ]
  },
  {
   "cell_type": "code",
   "execution_count": 33,
   "metadata": {},
   "outputs": [
    {
     "name": "stdout",
     "output_type": "stream",
     "text": [
      "<!DOCTYPE html>\n",
      "<html>\n",
      " <head>\n",
      "  <link href=\"/s/b0dcca.css\" rel=\"stylesheet\" title=\"Default\" type=\"text/css\"/>\n",
      "  <title>\n",
      "   xkcd: Solar System Changes\n",
      "  </title>\n",
      "  <meta content=\"IE=edge\" http-equiv=\"X-UA-Compatible\"/>\n",
      "  <link href=\"/s/919f27.ico\" rel=\"shortcut icon\" type=\"image/x-icon\"/>\n",
      "  <link href=\"/s/919f27.ico\" rel=\"icon\" type=\"image/x-icon\"/>\n",
      "  <link href=\"/atom.xml\" rel=\"alternate\" title=\"Atom 1.0\" type=\"application/atom+xml\"/>\n",
      "  <link href=\"/rss.xml\" rel=\"alternate\" title=\"RSS 2.0\" type=\"application/rss+xml\"/>\n",
      "  <script async=\"\" src=\"/s/b66ed7.js\" type=\"text/javascript\">\n",
      "  </script>\n",
      "  <script async=\"\" src=\"/s/1b9456.js\" type=\"text/javascript\">\n",
      "  </script>\n",
      "  <meta content=\"xkcd\" property=\"og:site_name\"/>\n",
      "  <meta content=\"Solar System Changes\" property=\"og:title\"/>\n",
      "  <meta content=\"https://xkcd.com/2258/\" property=\"og:url\"/>\n",
      "  <meta content=\"https://imgs.xkcd.com/comics/solar_system_changes_2x.png\" property=\"og:image\"/>\n",
      "  <meta content=\"summary_large_image\" name=\"twitter:card\"/>\n",
      " </head>\n",
      " <body>\n",
      "  <div id=\"topContainer\">\n",
      "   <div id=\"topLeft\">\n",
      "    <ul>\n",
      "     <li>\n",
      "      <a href=\"/archive\">\n",
      "       Archive\n",
      "      </a>\n",
      "     </li>\n",
      "     <li>\n",
      "      <a href=\"http://what-if.xkcd.com\">\n",
      "       What If?\n",
      "      </a>\n",
      "     </li>\n",
      "     <li>\n",
      "      <a href=\"http://blag.xkcd.com\">\n",
      "       Blag\n",
      "      </a>\n",
      "     </li>\n",
      "     <li>\n",
      "      <a href=\"/how-to/\">\n",
      "       How To\n",
      "      </a>\n",
      "     </li>\n",
      "     <li>\n",
      "      <a href=\"http://store.xkcd.com/\">\n",
      "       Store\n",
      "      </a>\n",
      "     </li>\n",
      "     <li>\n",
      "      <a href=\"/about\" rel=\"author\">\n",
      "       About\n",
      "      </a>\n",
      "     </li>\n",
      "     <li>\n",
      "      <a href=\"/atom.xml\">\n",
      "       Feed\n",
      "      </a>\n",
      "      •\n",
      "      <a href=\"/newsletter/\">\n",
      "       Email\n",
      "      </a>\n",
      "     </li>\n",
      "    </ul>\n",
      "   </div>\n",
      "   <div id=\"topRight\">\n",
      "    <div id=\"masthead\">\n",
      "     <span>\n",
      "      <a href=\"/\">\n",
      "       <img alt=\"xkcd.com logo\" height=\"83\" src=\"/s/0b7742.png\" width=\"185\"/>\n",
      "      </a>\n",
      "     </span>\n",
      "     <span id=\"slogan\">\n",
      "      A webcomic of romance,\n",
      "      <br/>\n",
      "      sarcasm, math, and language.\n",
      "     </span>\n",
      "    </div>\n",
      "    <div id=\"news\">\n",
      "     <div id=\"htNews\">\n",
      "      <a href=\"https://xkcd.com/how-to/\">\n",
      "       <img border=\"0\" src=\"//imgs.xkcd.com/static/howto_release_49b1.png\"/>\n",
      "      </a>\n",
      "      <br/>\n",
      "      You can get it here:\n",
      "      <br/>\n",
      "      <a href=\"https://www.amazon.com/How-Absurd-Scientific-Real-World-Problems/dp/0525537090/\">\n",
      "       Amazon\n",
      "      </a>\n",
      "      ,\n",
      "      <a href=\"http://links.penguinrandomhouse.com/type/affiliate/isbn/9780525537090/siteID/8001/retailerid/2/trackingcode/PRH5522E62429\">\n",
      "       B&amp;N\n",
      "      </a>\n",
      "      ,\n",
      "      <a href=\"http://links.penguinrandomhouse.com/type/affiliate/isbn/9780525537090/siteID/8001/retailerid/6/trackingcode/penguinrandom\">\n",
      "       IndieBound\n",
      "      </a>\n",
      "      ,\n",
      "      <a href=\"https://itunes.apple.com/us/book/how-to/id1451461524?mt=11\">\n",
      "       Apple\n",
      "      </a>\n",
      "      ,\n",
      "      <a href=\"https://www.audible.com/search?advsearchKeywords=How+To+Randall+Munroe&amp;source_code=COMA0213WS031709&amp;SID=PRHA9A5E24CFB--9780525635680\">\n",
      "       Audible\n",
      "      </a>\n",
      "      ,\n",
      "      <a href=\"http://links.penguinrandomhouse.com/type/affiliate/isbn/9780525537090/siteID/8001/retailerid/23/trackingcode/PRH3D17167A3B\">\n",
      "       Target\n",
      "      </a>\n",
      "     </div>\n",
      "     <script>\n",
      "      var client = new XMLHttpRequest();\n",
      "client.open(\"GET\", \"//c.xkcd.com/how-to/news\", true);\n",
      "client.send();\n",
      "client.onreadystatechange = function() {\n",
      "  if(client.readyState == 4 && client.status == 200) {\n",
      "    document.getElementById(\"htNews\").innerHTML = client.responseText;\n",
      "  }\n",
      "}\n",
      "     </script>\n",
      "    </div>\n",
      "   </div>\n",
      "   <div class=\"bg box\" id=\"bgLeft\">\n",
      "   </div>\n",
      "   <div class=\"bg box\" id=\"bgRight\">\n",
      "   </div>\n",
      "  </div>\n",
      "  <div class=\"box\" id=\"middleContainer\">\n",
      "   <div id=\"ctitle\">\n",
      "    Solar System Changes\n",
      "   </div>\n",
      "   <ul class=\"comicNav\">\n",
      "    <li>\n",
      "     <a href=\"/1/\">\n",
      "      |&lt;\n",
      "     </a>\n",
      "    </li>\n",
      "    <li>\n",
      "     <a accesskey=\"p\" href=\"/2257/\" rel=\"prev\">\n",
      "      &lt; Prev\n",
      "     </a>\n",
      "    </li>\n",
      "    <li>\n",
      "     <a href=\"//c.xkcd.com/random/comic/\">\n",
      "      Random\n",
      "     </a>\n",
      "    </li>\n",
      "    <li>\n",
      "     <a accesskey=\"n\" href=\"#\" rel=\"next\">\n",
      "      Next &gt;\n",
      "     </a>\n",
      "    </li>\n",
      "    <li>\n",
      "     <a href=\"/\">\n",
      "      &gt;|\n",
      "     </a>\n",
      "    </li>\n",
      "   </ul>\n",
      "   <div id=\"comic\">\n",
      "    <img alt=\"Solar System Changes\" src=\"//imgs.xkcd.com/comics/solar_system_changes.png\" srcset=\"//imgs.xkcd.com/comics/solar_system_changes_2x.png 2x\" title='\"Actually, Jupiter already has a very impressive ring system!\" --someone who knows Jupiter is within earshot'>\n",
      "    </img>\n",
      "   </div>\n",
      "   <ul class=\"comicNav\">\n",
      "    <li>\n",
      "     <a href=\"/1/\">\n",
      "      |&lt;\n",
      "     </a>\n",
      "    </li>\n",
      "    <li>\n",
      "     <a accesskey=\"p\" href=\"/2257/\" rel=\"prev\">\n",
      "      &lt; Prev\n",
      "     </a>\n",
      "    </li>\n",
      "    <li>\n",
      "     <a href=\"//c.xkcd.com/random/comic/\">\n",
      "      Random\n",
      "     </a>\n",
      "    </li>\n",
      "    <li>\n",
      "     <a accesskey=\"n\" href=\"#\" rel=\"next\">\n",
      "      Next &gt;\n",
      "     </a>\n",
      "    </li>\n",
      "    <li>\n",
      "     <a href=\"/\">\n",
      "      &gt;|\n",
      "     </a>\n",
      "    </li>\n",
      "   </ul>\n",
      "   <br/>\n",
      "   Permanent link to this comic: https://xkcd.com/2258/\n",
      "   <br/>\n",
      "   Image URL (for hotlinking/embedding): https://imgs.xkcd.com/comics/solar_system_changes.png\n",
      "   <div id=\"transcript\" style=\"display: none\">\n",
      "   </div>\n",
      "  </div>\n",
      "  <div class=\"box\" id=\"bottom\">\n",
      "   <img alt=\"Selected Comics\" height=\"100\" src=\"//imgs.xkcd.com/s/a899e84.jpg\" usemap=\"#comicmap\" width=\"520\"/>\n",
      "   <map id=\"comicmap\" name=\"comicmap\">\n",
      "    <area alt=\"Grownups\" coords=\"0,0,100,100\" href=\"/150/\" shape=\"rect\"/>\n",
      "    <area alt=\"Circuit Diagram\" coords=\"104,0,204,100\" href=\"/730/\" shape=\"rect\"/>\n",
      "    <area alt=\"Angular Momentum\" coords=\"208,0,308,100\" href=\"/162/\" shape=\"rect\"/>\n",
      "    <area alt=\"Self-Description\" coords=\"312,0,412,100\" href=\"/688/\" shape=\"rect\"/>\n",
      "    <area alt=\"Alternative Energy Revolution\" coords=\"416,0,520,100\" href=\"/556/\" shape=\"rect\"/>\n",
      "   </map>\n",
      "   <br/>\n",
      "   <a href=\"//xkcd.com/1732/\">\n",
      "    <img alt=\"Earth temperature timeline\" border=\"0\" height=\"100\" src=\"//imgs.xkcd.com/s/temperature.png\" width=\"520\"/>\n",
      "   </a>\n",
      "   <br/>\n",
      "   <div>\n",
      "    <!--\n",
      "Search comic titles and transcripts:\n",
      "<script type=\"text/javascript\" src=\"//www.google.com/jsapi\"></script>\n",
      "<script type=\"text/javascript\">google.load('search', '1');google.setOnLoadCallback(function() {google.search.CustomSearchControl.attachAutoCompletion('012652707207066138651:zudjtuwe28q',document.getElementById('q'),'cse-search-box');});</script>\n",
      "<form action=\"//www.google.com/cse\" id=\"cse-search-box\">\n",
      "<div>\n",
      "<input type=\"hidden\" name=\"cx\" value=\"012652707207066138651:zudjtuwe28q\"/>\n",
      "<input type=\"hidden\" name=\"ie\" value=\"UTF-8\"/>\n",
      "<input type=\"text\" name=\"q\" id=\"q\" size=\"31\"/>\n",
      "<input type=\"submit\" name=\"sa\" value=\"Search\"/>\n",
      "</div>\n",
      "</form>\n",
      "<script type=\"text/javascript\" src=\"//www.google.com/cse/brand?form=cse-search-box&amp;lang=en\"></script>\n",
      "-->\n",
      "    <a href=\"/rss.xml\">\n",
      "     RSS Feed\n",
      "    </a>\n",
      "    -\n",
      "    <a href=\"/atom.xml\">\n",
      "     Atom Feed\n",
      "    </a>\n",
      "    -\n",
      "    <a href=\"/newsletter/\">\n",
      "     Email\n",
      "    </a>\n",
      "   </div>\n",
      "   <br/>\n",
      "   <div id=\"comicLinks\">\n",
      "    Comics I enjoy:\n",
      "    <br/>\n",
      "    <a href=\"http://threewordphrase.com/\">\n",
      "     Three Word Phrase\n",
      "    </a>\n",
      "    ,\n",
      "    <a href=\"http://www.smbc-comics.com/\">\n",
      "     SMBC\n",
      "    </a>\n",
      "    ,\n",
      "    <a href=\"http://www.qwantz.com\">\n",
      "     Dinosaur Comics\n",
      "    </a>\n",
      "    ,\n",
      "    <a href=\"http://oglaf.com/\">\n",
      "     Oglaf\n",
      "    </a>\n",
      "    (nsfw),\n",
      "    <a href=\"http://www.asofterworld.com\">\n",
      "     A Softer World\n",
      "    </a>\n",
      "    ,\n",
      "    <a href=\"http://buttersafe.com/\">\n",
      "     Buttersafe\n",
      "    </a>\n",
      "    ,\n",
      "    <a href=\"http://pbfcomics.com/\">\n",
      "     Perry Bible Fellowship\n",
      "    </a>\n",
      "    ,\n",
      "    <a href=\"http://questionablecontent.net/\">\n",
      "     Questionable Content\n",
      "    </a>\n",
      "    ,\n",
      "    <a href=\"http://www.buttercupfestival.com/\">\n",
      "     Buttercup Festival\n",
      "    </a>\n",
      "    ,\n",
      "    <a href=\"http://www.mspaintadventures.com/?s=6&amp;p=001901\">\n",
      "     Homestuck\n",
      "    </a>\n",
      "    ,\n",
      "    <a href=\"http://www.jspowerhour.com/\">\n",
      "     Junior Scientist Power Hour\n",
      "    </a>\n",
      "   </div>\n",
      "   <br/>\n",
      "   <div id=\"comicLinks\">\n",
      "    Other things:\n",
      "    <br/>\n",
      "    <a href=\"https://medium.com/civic-tech-thoughts-from-joshdata/so-you-want-to-reform-democracy-7f3b1ef10597\">\n",
      "     Tips on technology and government\n",
      "    </a>\n",
      "    ,\n",
      "    <br/>\n",
      "    <a href=\"https://www.nytimes.com/interactive/2017/climate/what-is-climate-change.html\">\n",
      "     Climate FAQ\n",
      "    </a>\n",
      "    ,\n",
      "    <a href=\"https://twitter.com/KHayhoe\">\n",
      "     Katharine Hayhoe\n",
      "    </a>\n",
      "   </div>\n",
      "   <br/>\n",
      "   <center>\n",
      "    <div id=\"footnote\" style=\"width:70%\">\n",
      "     xkcd.com is best viewed with Netscape Navigator 4.0 or below on a Pentium 3±1 emulated in Javascript on an Apple IIGS\n",
      "     <br/>\n",
      "     at a screen resolution of 1024x1. Please enable your ad blockers, disable high-heat drying, and remove your device\n",
      "     <br/>\n",
      "     from Airplane Mode and set it to Boat Mode. For security reasons, please leave caps lock on while browsing.\n",
      "    </div>\n",
      "   </center>\n",
      "   <div id=\"licenseText\">\n",
      "    <p>\n",
      "     This work is licensed under a\n",
      "     <a href=\"http://creativecommons.org/licenses/by-nc/2.5/\">\n",
      "      Creative Commons Attribution-NonCommercial 2.5 License\n",
      "     </a>\n",
      "     .\n",
      "    </p>\n",
      "    <p>\n",
      "     This means you're free to copy and share these comics (but not to sell them).\n",
      "     <a href=\"/license.html\" rel=\"license\">\n",
      "      More details\n",
      "     </a>\n",
      "     .\n",
      "    </p>\n",
      "   </div>\n",
      "  </div>\n",
      " </body>\n",
      " <!-- Layout by Ian Clasbey, davean, and chromakode -->\n",
      "</html>\n",
      "\n"
     ]
    }
   ],
   "source": [
    "print(soup.prettify())"
   ]
  },
  {
   "cell_type": "code",
   "execution_count": 10,
   "metadata": {},
   "outputs": [
    {
     "data": {
      "text/plain": [
       "<title>xkcd: Solar System Changes</title>"
      ]
     },
     "execution_count": 10,
     "metadata": {},
     "output_type": "execute_result"
    }
   ],
   "source": [
    "soup.title"
   ]
  },
  {
   "cell_type": "code",
   "execution_count": 23,
   "metadata": {},
   "outputs": [
    {
     "data": {
      "text/plain": [
       "'title'"
      ]
     },
     "execution_count": 23,
     "metadata": {},
     "output_type": "execute_result"
    }
   ],
   "source": [
    "soup.title.name"
   ]
  },
  {
   "cell_type": "code",
   "execution_count": 11,
   "metadata": {},
   "outputs": [
    {
     "data": {
      "text/plain": [
       "'xkcd: Solar System Changes'"
      ]
     },
     "execution_count": 11,
     "metadata": {},
     "output_type": "execute_result"
    }
   ],
   "source": [
    "soup.title.string"
   ]
  },
  {
   "cell_type": "code",
   "execution_count": 25,
   "metadata": {},
   "outputs": [
    {
     "data": {
      "text/plain": [
       "<a href=\"/archive\">Archive</a>"
      ]
     },
     "execution_count": 25,
     "metadata": {},
     "output_type": "execute_result"
    }
   ],
   "source": [
    "soup.a"
   ]
  },
  {
   "cell_type": "code",
   "execution_count": 28,
   "metadata": {},
   "outputs": [
    {
     "data": {
      "text/plain": [
       "[<div id=\"masthead\">\n",
       " <span><a href=\"/\"><img alt=\"xkcd.com logo\" height=\"83\" src=\"/s/0b7742.png\" width=\"185\"/></a></span>\n",
       " <span id=\"slogan\">A webcomic of romance,<br/> sarcasm, math, and language.</span>\n",
       " </div>]"
      ]
     },
     "execution_count": 28,
     "metadata": {},
     "output_type": "execute_result"
    }
   ],
   "source": [
    "soup.find_all(id=\"masthead\")\n",
    "   "
   ]
  },
  {
   "cell_type": "code",
   "execution_count": 29,
   "metadata": {},
   "outputs": [
    {
     "data": {
      "text/plain": [
       "[<span><a href=\"/\"><img alt=\"xkcd.com logo\" height=\"83\" src=\"/s/0b7742.png\" width=\"185\"/></a></span>,\n",
       " <span id=\"slogan\">A webcomic of romance,<br/> sarcasm, math, and language.</span>]"
      ]
     },
     "execution_count": 29,
     "metadata": {},
     "output_type": "execute_result"
    }
   ],
   "source": [
    "soup.select(\"div span\")"
   ]
  },
  {
   "cell_type": "code",
   "execution_count": 15,
   "metadata": {},
   "outputs": [
    {
     "data": {
      "text/plain": [
       "[<a href=\"/archive\">Archive</a>,\n",
       " <a href=\"http://what-if.xkcd.com\">What If?</a>,\n",
       " <a href=\"http://blag.xkcd.com\">Blag</a>,\n",
       " <a href=\"/how-to/\">How To</a>,\n",
       " <a href=\"http://store.xkcd.com/\">Store</a>,\n",
       " <a href=\"/about\" rel=\"author\">About</a>,\n",
       " <a href=\"/atom.xml\">Feed</a>,\n",
       " <a href=\"/newsletter/\">Email</a>,\n",
       " <a href=\"/\"><img alt=\"xkcd.com logo\" height=\"83\" src=\"/s/0b7742.png\" width=\"185\"/></a>,\n",
       " <a href=\"https://xkcd.com/how-to/\"><img border=\"0\" src=\"//imgs.xkcd.com/static/howto_release_49b1.png\"/></a>]"
      ]
     },
     "execution_count": 15,
     "metadata": {},
     "output_type": "execute_result"
    }
   ],
   "source": [
    "soup.find_all('a')[:10]"
   ]
  },
  {
   "cell_type": "code",
   "execution_count": 29,
   "metadata": {},
   "outputs": [
    {
     "name": "stdout",
     "output_type": "stream",
     "text": [
      "/archive\n",
      "http://what-if.xkcd.com\n",
      "http://blag.xkcd.com\n",
      "/how-to/\n",
      "http://store.xkcd.com/\n",
      "/about\n",
      "/atom.xml\n",
      "/newsletter/\n",
      "/\n",
      "https://xkcd.com/how-to/\n",
      "https://www.amazon.com/How-Absurd-Scientific-Real-World-Problems/dp/0525537090/\n",
      "http://links.penguinrandomhouse.com/type/affiliate/isbn/9780525537090/siteID/8001/retailerid/2/trackingcode/PRH5522E62429\n",
      "http://links.penguinrandomhouse.com/type/affiliate/isbn/9780525537090/siteID/8001/retailerid/6/trackingcode/penguinrandom\n",
      "https://itunes.apple.com/us/book/how-to/id1451461524?mt=11\n",
      "https://www.audible.com/search?advsearchKeywords=How+To+Randall+Munroe&source_code=COMA0213WS031709&SID=PRHA9A5E24CFB--9780525635680\n",
      "http://links.penguinrandomhouse.com/type/affiliate/isbn/9780525537090/siteID/8001/retailerid/23/trackingcode/PRH3D17167A3B\n",
      "/1/\n",
      "/2256/\n",
      "//c.xkcd.com/random/comic/\n",
      "#\n",
      "/\n",
      "/1/\n",
      "/2256/\n",
      "//c.xkcd.com/random/comic/\n",
      "#\n",
      "/\n",
      "//xkcd.com/1732/\n",
      "/rss.xml\n",
      "/atom.xml\n",
      "/newsletter/\n",
      "http://threewordphrase.com/\n",
      "http://www.smbc-comics.com/\n",
      "http://www.qwantz.com\n",
      "http://oglaf.com/\n",
      "http://www.asofterworld.com\n",
      "http://buttersafe.com/\n",
      "http://pbfcomics.com/\n",
      "http://questionablecontent.net/\n",
      "http://www.buttercupfestival.com/\n",
      "http://www.mspaintadventures.com/?s=6&p=001901\n",
      "http://www.jspowerhour.com/\n",
      "https://medium.com/civic-tech-thoughts-from-joshdata/so-you-want-to-reform-democracy-7f3b1ef10597\n",
      "https://www.nytimes.com/interactive/2017/climate/what-is-climate-change.html\n",
      "https://twitter.com/KHayhoe\n",
      "http://creativecommons.org/licenses/by-nc/2.5/\n",
      "/license.html\n"
     ]
    }
   ],
   "source": [
    "for link in soup.find_all('a'):\n",
    "    print(link.get('href'))"
   ]
  },
  {
   "cell_type": "code",
   "execution_count": 30,
   "metadata": {},
   "outputs": [
    {
     "name": "stdout",
     "output_type": "stream",
     "text": [
      "\n",
      "\n",
      "\n",
      "\n",
      "xkcd: Unsubscribe Message\n",
      "\n",
      "\n",
      "\n",
      "\n",
      "\n",
      "\n",
      "\n",
      "\n",
      "\n",
      "\n",
      "\n",
      "\n",
      "\n",
      "\n",
      "\n",
      "\n",
      "\n",
      "Archive\n",
      "What If?\n",
      "Blag\n",
      "How To\n",
      "Store\n",
      "About\n",
      "Feed • Email\n",
      "\n",
      "\n",
      "\n",
      "\n",
      "\n",
      "A webcomic of romance, sarcasm, math, and language.\n",
      "\n",
      "\n",
      "\n",
      "\n",
      "You can get it here:\n",
      "Amazon,\n",
      "    B&N,\n",
      "    IndieBound,\n",
      "    Apple,\n",
      "    Audible,\n",
      "    Target\n",
      "\n",
      "\n",
      "var client = new XMLHttpRequest();\n",
      "client.open(\"GET\", \"//c.xkcd.com/how-to/news\", true);\n",
      "client.send();\n",
      "client.onreadystatechange = function() {\n",
      "  if(client.readyState == 4 && client.status == 200) {\n",
      "    document.getElementById(\"htNews\").innerHTML = client.responseText;\n",
      "  }\n",
      "}\n",
      "\n",
      "\n",
      "\n",
      "\n",
      "\n",
      "\n",
      "\n",
      "Unsubscribe Message\n",
      "\n",
      "|<\n",
      "< Prev\n",
      "Random\n",
      "Next >\n",
      ">|\n",
      "\n",
      "\n",
      "\n",
      "\n",
      "\n",
      "|<\n",
      "< Prev\n",
      "Random\n",
      "Next >\n",
      ">|\n",
      "\n",
      "\n",
      "Permanent link to this comic: https://xkcd.com/2257/\n",
      "Image URL (for hotlinking/embedding): https://imgs.xkcd.com/comics/unsubscribe_message.png\n",
      "\n",
      "\n",
      "\n",
      "\n",
      "\n",
      "\n",
      "\n",
      "\n",
      "\n",
      "\n",
      "\n",
      "\n",
      "\n",
      "\n",
      "\n",
      "\n",
      "RSS Feed - Atom Feed - Email\n",
      "\n",
      "\n",
      "\n",
      "Comics I enjoy:\n",
      "Three Word Phrase,\n",
      "        SMBC,\n",
      "        Dinosaur Comics,\n",
      "        Oglaf (nsfw),\n",
      "        A Softer World,\n",
      "        Buttersafe,\n",
      "        Perry Bible Fellowship,\n",
      "        Questionable Content,\n",
      "        Buttercup Festival,\n",
      "        Homestuck,\n",
      "\tJunior Scientist Power Hour\n",
      "\n",
      "\n",
      "\n",
      "Other things:\n",
      "Tips on technology and government,\n",
      "Climate FAQ,\n",
      "\tKatharine Hayhoe\n",
      "\n",
      "\n",
      "\n",
      "xkcd.com is best viewed with Netscape Navigator 4.0 or below on a Pentium 3±1 emulated in Javascript on an Apple IIGSat a screen resolution of 1024x1. Please enable your ad blockers, disable high-heat drying, and remove your devicefrom Airplane Mode and set it to Boat Mode. For security reasons, please leave caps lock on while browsing.\n",
      "\n",
      "\n",
      "\n",
      "This work is licensed under a\n",
      "Creative Commons Attribution-NonCommercial 2.5 License.\n",
      "\n",
      "This means you're free to copy and share these comics (but not to sell them). More details.\n",
      "\n",
      "\n",
      "\n",
      "\n",
      "\n",
      "\n"
     ]
    }
   ],
   "source": [
    "#print(soup.get_text())"
   ]
  },
  {
   "cell_type": "code",
   "execution_count": null,
   "metadata": {},
   "outputs": [],
   "source": []
  }
 ],
 "metadata": {
  "kernelspec": {
   "display_name": "Python 3",
   "language": "python",
   "name": "python3"
  },
  "language_info": {
   "codemirror_mode": {
    "name": "ipython",
    "version": 3
   },
   "file_extension": ".py",
   "mimetype": "text/x-python",
   "name": "python",
   "nbconvert_exporter": "python",
   "pygments_lexer": "ipython3",
   "version": "3.6.8"
  }
 },
 "nbformat": 4,
 "nbformat_minor": 2
}
